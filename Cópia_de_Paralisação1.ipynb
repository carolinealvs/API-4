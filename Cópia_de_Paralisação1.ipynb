{
  "nbformat": 4,
  "nbformat_minor": 0,
  "metadata": {
    "colab": {
      "provenance": [],
      "include_colab_link": true
    },
    "kernelspec": {
      "name": "python3",
      "display_name": "Python 3"
    },
    "language_info": {
      "name": "python"
    }
  },
  "cells": [
    {
      "cell_type": "markdown",
      "metadata": {
        "id": "view-in-github",
        "colab_type": "text"
      },
      "source": [
        "<a href=\"https://colab.research.google.com/github/carolinealvs/API-4/blob/V%C3%ADdeos/C%C3%B3pia_de_Paralisa%C3%A7%C3%A3o1.ipynb\" target=\"_parent\"><img src=\"https://colab.research.google.com/assets/colab-badge.svg\" alt=\"Open In Colab\"/></a>"
      ]
    },
    {
      "cell_type": "code",
      "execution_count": null,
      "metadata": {
        "id": "i5M8IvlRLslB"
      },
      "outputs": [],
      "source": [
        "import pandas as pd"
      ]
    },
    {
      "cell_type": "code",
      "source": [
        "from google.colab import drive\n",
        "drive.mount('/content/drive')"
      ],
      "metadata": {
        "colab": {
          "base_uri": "https://localhost:8080/"
        },
        "id": "cGoDdkunL0Dz",
        "outputId": "3cf5f362-15f6-404f-e796-8d9b9dd2cf88"
      },
      "execution_count": null,
      "outputs": [
        {
          "output_type": "stream",
          "name": "stdout",
          "text": [
            "Mounted at /content/drive\n"
          ]
        }
      ]
    },
    {
      "cell_type": "code",
      "source": [
        "caminho_in =  '/content/drive/My Drive/Data3/'\n",
        "caminho_out =  '/content/drive/My Drive/Data3/'"
      ],
      "metadata": {
        "id": "XfXygEMYMDF1"
      },
      "execution_count": null,
      "outputs": []
    },
    {
      "cell_type": "code",
      "source": [
        "file1 = caminho_in + '2023TemposAtracacaoParalisacao.csv'\n",
        "with open(file1, 'r', encoding='UTF-8') as f:\n",
        "    linhas = f.readlines()\n",
        "    for i in range(0, 5):\n",
        "        print(f\"Linha {i+1}: {linhas[i]}\")"
      ],
      "metadata": {
        "colab": {
          "base_uri": "https://localhost:8080/"
        },
        "id": "DkGD8k_cMH2X",
        "outputId": "8d874946-30c8-41e7-d2bc-ade35478bbea"
      },
      "execution_count": null,
      "outputs": [
        {
          "output_type": "stream",
          "name": "stdout",
          "text": [
            "Linha 1: ﻿IDTemposDescontos;IDAtracacao;DescricaoTempoDesconto;DTInicio;DTTermino\n",
            "\n",
            "Linha 2: 940384;1341301;Preparação de equipamentos do cais;26/05/2023 00:12:00;26/05/2023 00:54:00\n",
            "\n",
            "Linha 3: 940460;1341486;Limpeza operacional;08/05/2023 14:00:00;08/05/2023 14:30:00\n",
            "\n",
            "Linha 4: 940488;1341493;Chuva e/ou outras condições climáticas desfavoráveis;13/05/2023 20:40:00;13/05/2023 22:10:00\n",
            "\n",
            "Linha 5: 940489;1341493;Chuva e/ou outras condições climáticas desfavoráveis;13/05/2023 23:05:00;13/05/2023 23:45:00\n",
            "\n"
          ]
        }
      ]
    },
    {
      "cell_type": "code",
      "source": [
        "df1 = pd.read_csv(file1, low_memory=False, sep=';', encoding = 'UTF-8', decimal =\",\")"
      ],
      "metadata": {
        "id": "FF6TZ2NHMPGb"
      },
      "execution_count": null,
      "outputs": []
    },
    {
      "cell_type": "code",
      "source": [
        "df1.info()"
      ],
      "metadata": {
        "colab": {
          "base_uri": "https://localhost:8080/"
        },
        "id": "RjJm4bxeMXmt",
        "outputId": "10caeba9-21d9-47e1-8f35-4833fd0c614c"
      },
      "execution_count": null,
      "outputs": [
        {
          "output_type": "stream",
          "name": "stdout",
          "text": [
            "<class 'pandas.core.frame.DataFrame'>\n",
            "RangeIndex: 123567 entries, 0 to 123566\n",
            "Data columns (total 5 columns):\n",
            " #   Column                  Non-Null Count   Dtype \n",
            "---  ------                  --------------   ----- \n",
            " 0   IDTemposDescontos       123567 non-null  int64 \n",
            " 1   IDAtracacao             123567 non-null  int64 \n",
            " 2   DescricaoTempoDesconto  123567 non-null  object\n",
            " 3   DTInicio                123567 non-null  object\n",
            " 4   DTTermino               123567 non-null  object\n",
            "dtypes: int64(2), object(3)\n",
            "memory usage: 4.7+ MB\n"
          ]
        }
      ]
    },
    {
      "cell_type": "code",
      "source": [
        "file2 = caminho_in + '2024TemposAtracacaoParalisacao.csv'\n",
        "with open(file2, 'r', encoding='UTF-8') as f:\n",
        "    linhas = f.readlines()\n",
        "    for i in range(0, 5):\n",
        "        print(f\"Linha {i+1}: {linhas[i]}\")"
      ],
      "metadata": {
        "colab": {
          "base_uri": "https://localhost:8080/"
        },
        "id": "3T_SAN1xMjzN",
        "outputId": "fb38196f-9f3e-4a2f-b07a-0d6e8ce73c21"
      },
      "execution_count": null,
      "outputs": [
        {
          "output_type": "stream",
          "name": "stdout",
          "text": [
            "Linha 1: ﻿IDTemposDescontos;IDAtracacao;DescricaoTempoDesconto;DTInicio;DTTermino\n",
            "\n",
            "Linha 2: 1034976;1415397;Mudança de porão;16/01/2024 06:50:00;16/01/2024 07:00:00\n",
            "\n",
            "Linha 3: 1034977;1415397;Mudança de porão;16/01/2024 10:45:00;16/01/2024 11:00:00\n",
            "\n",
            "Linha 4: 1034978;1415397;Quebra de equipamento do Operador Portuário, devidamente comprovada;16/01/2024 16:35:00;16/01/2024 23:25:00\n",
            "\n",
            "Linha 5: 1034979;1415397;Chuva e/ou outras condições climáticas desfavoráveis;17/01/2024 00:20:00;17/01/2024 03:30:00\n",
            "\n"
          ]
        }
      ]
    },
    {
      "cell_type": "code",
      "source": [
        "df2 = pd.read_csv(file2, low_memory=False, sep=';', encoding = 'UTF-8', decimal =\",\")"
      ],
      "metadata": {
        "id": "3DFjJJVYMuyf"
      },
      "execution_count": null,
      "outputs": []
    },
    {
      "cell_type": "code",
      "source": [
        "df2.info()"
      ],
      "metadata": {
        "colab": {
          "base_uri": "https://localhost:8080/"
        },
        "id": "yleYtRTFNBJn",
        "outputId": "e326b34d-0297-44b5-c86f-c4dbfc6c340e"
      },
      "execution_count": null,
      "outputs": [
        {
          "output_type": "stream",
          "name": "stdout",
          "text": [
            "<class 'pandas.core.frame.DataFrame'>\n",
            "RangeIndex: 226941 entries, 0 to 226940\n",
            "Data columns (total 5 columns):\n",
            " #   Column                  Non-Null Count   Dtype \n",
            "---  ------                  --------------   ----- \n",
            " 0   IDTemposDescontos       226941 non-null  int64 \n",
            " 1   IDAtracacao             226941 non-null  int64 \n",
            " 2   DescricaoTempoDesconto  226941 non-null  object\n",
            " 3   DTInicio                226941 non-null  object\n",
            " 4   DTTermino               226941 non-null  object\n",
            "dtypes: int64(2), object(3)\n",
            "memory usage: 8.7+ MB\n"
          ]
        }
      ]
    },
    {
      "cell_type": "code",
      "source": [
        "csv_files = [file1, file2]\n",
        "ANTAQ_Int = pd.DataFrame()\n",
        "for file in csv_files:\n",
        "    df = pd.read_csv(file, sep=';', encoding='utf-8', low_memory=False)\n",
        "    ANTAQ_Int = pd.concat([ANTAQ_Int, df], ignore_index=True)\n",
        "\n",
        "ANTAQ_Int.info()"
      ],
      "metadata": {
        "colab": {
          "base_uri": "https://localhost:8080/"
        },
        "id": "nx8Q3yNAZujp",
        "outputId": "77b67493-fb6a-4102-b34e-cc7aed1a4404"
      },
      "execution_count": null,
      "outputs": [
        {
          "output_type": "stream",
          "name": "stdout",
          "text": [
            "<class 'pandas.core.frame.DataFrame'>\n",
            "RangeIndex: 350508 entries, 0 to 350507\n",
            "Data columns (total 5 columns):\n",
            " #   Column                  Non-Null Count   Dtype \n",
            "---  ------                  --------------   ----- \n",
            " 0   IDTemposDescontos       350508 non-null  int64 \n",
            " 1   IDAtracacao             350508 non-null  int64 \n",
            " 2   DescricaoTempoDesconto  350508 non-null  object\n",
            " 3   DTInicio                350508 non-null  object\n",
            " 4   DTTermino               350508 non-null  object\n",
            "dtypes: int64(2), object(3)\n",
            "memory usage: 13.4+ MB\n"
          ]
        }
      ]
    },
    {
      "cell_type": "code",
      "source": [
        "print(ANTAQ_Int.columns.tolist())"
      ],
      "metadata": {
        "colab": {
          "base_uri": "https://localhost:8080/"
        },
        "id": "_I5KvA4Ly5cB",
        "outputId": "ca04a2bc-0dd0-457b-ffea-dfd831782683"
      },
      "execution_count": null,
      "outputs": [
        {
          "output_type": "stream",
          "name": "stdout",
          "text": [
            "['IDTemposDescontos', 'IDAtracacao', 'DescricaoTempoDesconto', 'DTInicio', 'DTTermino']\n"
          ]
        }
      ]
    },
    {
      "cell_type": "code",
      "source": [
        "ANTAQ_Int.head()"
      ],
      "metadata": {
        "colab": {
          "base_uri": "https://localhost:8080/",
          "height": 206
        },
        "id": "Y9O7rZPdy7yL",
        "outputId": "59a8449f-b30d-4202-bffe-c0065d54aec0"
      },
      "execution_count": null,
      "outputs": [
        {
          "output_type": "execute_result",
          "data": {
            "text/plain": [
              "   IDTemposDescontos  IDAtracacao  \\\n",
              "0             940384      1341301   \n",
              "1             940460      1341486   \n",
              "2             940488      1341493   \n",
              "3             940489      1341493   \n",
              "4             940490      1341493   \n",
              "\n",
              "                              DescricaoTempoDesconto             DTInicio  \\\n",
              "0                 Preparação de equipamentos do cais  26/05/2023 00:12:00   \n",
              "1                                Limpeza operacional  08/05/2023 14:00:00   \n",
              "2  Chuva e/ou outras condições climáticas desfavo...  13/05/2023 20:40:00   \n",
              "3  Chuva e/ou outras condições climáticas desfavo...  13/05/2023 23:05:00   \n",
              "4  Chuva e/ou outras condições climáticas desfavo...  14/05/2023 00:00:00   \n",
              "\n",
              "             DTTermino  \n",
              "0  26/05/2023 00:54:00  \n",
              "1  08/05/2023 14:30:00  \n",
              "2  13/05/2023 22:10:00  \n",
              "3  13/05/2023 23:45:00  \n",
              "4  14/05/2023 00:50:00  "
            ],
            "text/html": [
              "\n",
              "  <div id=\"df-3f318cae-d3bb-4f86-a5f6-246a253d5800\" class=\"colab-df-container\">\n",
              "    <div>\n",
              "<style scoped>\n",
              "    .dataframe tbody tr th:only-of-type {\n",
              "        vertical-align: middle;\n",
              "    }\n",
              "\n",
              "    .dataframe tbody tr th {\n",
              "        vertical-align: top;\n",
              "    }\n",
              "\n",
              "    .dataframe thead th {\n",
              "        text-align: right;\n",
              "    }\n",
              "</style>\n",
              "<table border=\"1\" class=\"dataframe\">\n",
              "  <thead>\n",
              "    <tr style=\"text-align: right;\">\n",
              "      <th></th>\n",
              "      <th>IDTemposDescontos</th>\n",
              "      <th>IDAtracacao</th>\n",
              "      <th>DescricaoTempoDesconto</th>\n",
              "      <th>DTInicio</th>\n",
              "      <th>DTTermino</th>\n",
              "    </tr>\n",
              "  </thead>\n",
              "  <tbody>\n",
              "    <tr>\n",
              "      <th>0</th>\n",
              "      <td>940384</td>\n",
              "      <td>1341301</td>\n",
              "      <td>Preparação de equipamentos do cais</td>\n",
              "      <td>26/05/2023 00:12:00</td>\n",
              "      <td>26/05/2023 00:54:00</td>\n",
              "    </tr>\n",
              "    <tr>\n",
              "      <th>1</th>\n",
              "      <td>940460</td>\n",
              "      <td>1341486</td>\n",
              "      <td>Limpeza operacional</td>\n",
              "      <td>08/05/2023 14:00:00</td>\n",
              "      <td>08/05/2023 14:30:00</td>\n",
              "    </tr>\n",
              "    <tr>\n",
              "      <th>2</th>\n",
              "      <td>940488</td>\n",
              "      <td>1341493</td>\n",
              "      <td>Chuva e/ou outras condições climáticas desfavo...</td>\n",
              "      <td>13/05/2023 20:40:00</td>\n",
              "      <td>13/05/2023 22:10:00</td>\n",
              "    </tr>\n",
              "    <tr>\n",
              "      <th>3</th>\n",
              "      <td>940489</td>\n",
              "      <td>1341493</td>\n",
              "      <td>Chuva e/ou outras condições climáticas desfavo...</td>\n",
              "      <td>13/05/2023 23:05:00</td>\n",
              "      <td>13/05/2023 23:45:00</td>\n",
              "    </tr>\n",
              "    <tr>\n",
              "      <th>4</th>\n",
              "      <td>940490</td>\n",
              "      <td>1341493</td>\n",
              "      <td>Chuva e/ou outras condições climáticas desfavo...</td>\n",
              "      <td>14/05/2023 00:00:00</td>\n",
              "      <td>14/05/2023 00:50:00</td>\n",
              "    </tr>\n",
              "  </tbody>\n",
              "</table>\n",
              "</div>\n",
              "    <div class=\"colab-df-buttons\">\n",
              "\n",
              "  <div class=\"colab-df-container\">\n",
              "    <button class=\"colab-df-convert\" onclick=\"convertToInteractive('df-3f318cae-d3bb-4f86-a5f6-246a253d5800')\"\n",
              "            title=\"Convert this dataframe to an interactive table.\"\n",
              "            style=\"display:none;\">\n",
              "\n",
              "  <svg xmlns=\"http://www.w3.org/2000/svg\" height=\"24px\" viewBox=\"0 -960 960 960\">\n",
              "    <path d=\"M120-120v-720h720v720H120Zm60-500h600v-160H180v160Zm220 220h160v-160H400v160Zm0 220h160v-160H400v160ZM180-400h160v-160H180v160Zm440 0h160v-160H620v160ZM180-180h160v-160H180v160Zm440 0h160v-160H620v160Z\"/>\n",
              "  </svg>\n",
              "    </button>\n",
              "\n",
              "  <style>\n",
              "    .colab-df-container {\n",
              "      display:flex;\n",
              "      gap: 12px;\n",
              "    }\n",
              "\n",
              "    .colab-df-convert {\n",
              "      background-color: #E8F0FE;\n",
              "      border: none;\n",
              "      border-radius: 50%;\n",
              "      cursor: pointer;\n",
              "      display: none;\n",
              "      fill: #1967D2;\n",
              "      height: 32px;\n",
              "      padding: 0 0 0 0;\n",
              "      width: 32px;\n",
              "    }\n",
              "\n",
              "    .colab-df-convert:hover {\n",
              "      background-color: #E2EBFA;\n",
              "      box-shadow: 0px 1px 2px rgba(60, 64, 67, 0.3), 0px 1px 3px 1px rgba(60, 64, 67, 0.15);\n",
              "      fill: #174EA6;\n",
              "    }\n",
              "\n",
              "    .colab-df-buttons div {\n",
              "      margin-bottom: 4px;\n",
              "    }\n",
              "\n",
              "    [theme=dark] .colab-df-convert {\n",
              "      background-color: #3B4455;\n",
              "      fill: #D2E3FC;\n",
              "    }\n",
              "\n",
              "    [theme=dark] .colab-df-convert:hover {\n",
              "      background-color: #434B5C;\n",
              "      box-shadow: 0px 1px 3px 1px rgba(0, 0, 0, 0.15);\n",
              "      filter: drop-shadow(0px 1px 2px rgba(0, 0, 0, 0.3));\n",
              "      fill: #FFFFFF;\n",
              "    }\n",
              "  </style>\n",
              "\n",
              "    <script>\n",
              "      const buttonEl =\n",
              "        document.querySelector('#df-3f318cae-d3bb-4f86-a5f6-246a253d5800 button.colab-df-convert');\n",
              "      buttonEl.style.display =\n",
              "        google.colab.kernel.accessAllowed ? 'block' : 'none';\n",
              "\n",
              "      async function convertToInteractive(key) {\n",
              "        const element = document.querySelector('#df-3f318cae-d3bb-4f86-a5f6-246a253d5800');\n",
              "        const dataTable =\n",
              "          await google.colab.kernel.invokeFunction('convertToInteractive',\n",
              "                                                    [key], {});\n",
              "        if (!dataTable) return;\n",
              "\n",
              "        const docLinkHtml = 'Like what you see? Visit the ' +\n",
              "          '<a target=\"_blank\" href=https://colab.research.google.com/notebooks/data_table.ipynb>data table notebook</a>'\n",
              "          + ' to learn more about interactive tables.';\n",
              "        element.innerHTML = '';\n",
              "        dataTable['output_type'] = 'display_data';\n",
              "        await google.colab.output.renderOutput(dataTable, element);\n",
              "        const docLink = document.createElement('div');\n",
              "        docLink.innerHTML = docLinkHtml;\n",
              "        element.appendChild(docLink);\n",
              "      }\n",
              "    </script>\n",
              "  </div>\n",
              "\n",
              "\n",
              "    <div id=\"df-e7518fa7-d4fb-416d-87f7-9d505ef7268a\">\n",
              "      <button class=\"colab-df-quickchart\" onclick=\"quickchart('df-e7518fa7-d4fb-416d-87f7-9d505ef7268a')\"\n",
              "                title=\"Suggest charts\"\n",
              "                style=\"display:none;\">\n",
              "\n",
              "<svg xmlns=\"http://www.w3.org/2000/svg\" height=\"24px\"viewBox=\"0 0 24 24\"\n",
              "     width=\"24px\">\n",
              "    <g>\n",
              "        <path d=\"M19 3H5c-1.1 0-2 .9-2 2v14c0 1.1.9 2 2 2h14c1.1 0 2-.9 2-2V5c0-1.1-.9-2-2-2zM9 17H7v-7h2v7zm4 0h-2V7h2v10zm4 0h-2v-4h2v4z\"/>\n",
              "    </g>\n",
              "</svg>\n",
              "      </button>\n",
              "\n",
              "<style>\n",
              "  .colab-df-quickchart {\n",
              "      --bg-color: #E8F0FE;\n",
              "      --fill-color: #1967D2;\n",
              "      --hover-bg-color: #E2EBFA;\n",
              "      --hover-fill-color: #174EA6;\n",
              "      --disabled-fill-color: #AAA;\n",
              "      --disabled-bg-color: #DDD;\n",
              "  }\n",
              "\n",
              "  [theme=dark] .colab-df-quickchart {\n",
              "      --bg-color: #3B4455;\n",
              "      --fill-color: #D2E3FC;\n",
              "      --hover-bg-color: #434B5C;\n",
              "      --hover-fill-color: #FFFFFF;\n",
              "      --disabled-bg-color: #3B4455;\n",
              "      --disabled-fill-color: #666;\n",
              "  }\n",
              "\n",
              "  .colab-df-quickchart {\n",
              "    background-color: var(--bg-color);\n",
              "    border: none;\n",
              "    border-radius: 50%;\n",
              "    cursor: pointer;\n",
              "    display: none;\n",
              "    fill: var(--fill-color);\n",
              "    height: 32px;\n",
              "    padding: 0;\n",
              "    width: 32px;\n",
              "  }\n",
              "\n",
              "  .colab-df-quickchart:hover {\n",
              "    background-color: var(--hover-bg-color);\n",
              "    box-shadow: 0 1px 2px rgba(60, 64, 67, 0.3), 0 1px 3px 1px rgba(60, 64, 67, 0.15);\n",
              "    fill: var(--button-hover-fill-color);\n",
              "  }\n",
              "\n",
              "  .colab-df-quickchart-complete:disabled,\n",
              "  .colab-df-quickchart-complete:disabled:hover {\n",
              "    background-color: var(--disabled-bg-color);\n",
              "    fill: var(--disabled-fill-color);\n",
              "    box-shadow: none;\n",
              "  }\n",
              "\n",
              "  .colab-df-spinner {\n",
              "    border: 2px solid var(--fill-color);\n",
              "    border-color: transparent;\n",
              "    border-bottom-color: var(--fill-color);\n",
              "    animation:\n",
              "      spin 1s steps(1) infinite;\n",
              "  }\n",
              "\n",
              "  @keyframes spin {\n",
              "    0% {\n",
              "      border-color: transparent;\n",
              "      border-bottom-color: var(--fill-color);\n",
              "      border-left-color: var(--fill-color);\n",
              "    }\n",
              "    20% {\n",
              "      border-color: transparent;\n",
              "      border-left-color: var(--fill-color);\n",
              "      border-top-color: var(--fill-color);\n",
              "    }\n",
              "    30% {\n",
              "      border-color: transparent;\n",
              "      border-left-color: var(--fill-color);\n",
              "      border-top-color: var(--fill-color);\n",
              "      border-right-color: var(--fill-color);\n",
              "    }\n",
              "    40% {\n",
              "      border-color: transparent;\n",
              "      border-right-color: var(--fill-color);\n",
              "      border-top-color: var(--fill-color);\n",
              "    }\n",
              "    60% {\n",
              "      border-color: transparent;\n",
              "      border-right-color: var(--fill-color);\n",
              "    }\n",
              "    80% {\n",
              "      border-color: transparent;\n",
              "      border-right-color: var(--fill-color);\n",
              "      border-bottom-color: var(--fill-color);\n",
              "    }\n",
              "    90% {\n",
              "      border-color: transparent;\n",
              "      border-bottom-color: var(--fill-color);\n",
              "    }\n",
              "  }\n",
              "</style>\n",
              "\n",
              "      <script>\n",
              "        async function quickchart(key) {\n",
              "          const quickchartButtonEl =\n",
              "            document.querySelector('#' + key + ' button');\n",
              "          quickchartButtonEl.disabled = true;  // To prevent multiple clicks.\n",
              "          quickchartButtonEl.classList.add('colab-df-spinner');\n",
              "          try {\n",
              "            const charts = await google.colab.kernel.invokeFunction(\n",
              "                'suggestCharts', [key], {});\n",
              "          } catch (error) {\n",
              "            console.error('Error during call to suggestCharts:', error);\n",
              "          }\n",
              "          quickchartButtonEl.classList.remove('colab-df-spinner');\n",
              "          quickchartButtonEl.classList.add('colab-df-quickchart-complete');\n",
              "        }\n",
              "        (() => {\n",
              "          let quickchartButtonEl =\n",
              "            document.querySelector('#df-e7518fa7-d4fb-416d-87f7-9d505ef7268a button');\n",
              "          quickchartButtonEl.style.display =\n",
              "            google.colab.kernel.accessAllowed ? 'block' : 'none';\n",
              "        })();\n",
              "      </script>\n",
              "    </div>\n",
              "\n",
              "    </div>\n",
              "  </div>\n"
            ],
            "application/vnd.google.colaboratory.intrinsic+json": {
              "type": "dataframe",
              "variable_name": "ANTAQ_Int"
            }
          },
          "metadata": {},
          "execution_count": 12
        }
      ]
    },
    {
      "cell_type": "code",
      "source": [
        "ANTAQ_Int.tail()"
      ],
      "metadata": {
        "colab": {
          "base_uri": "https://localhost:8080/",
          "height": 206
        },
        "id": "DZ6EG57Zy_mE",
        "outputId": "18a9b435-b4e2-4606-afa3-8c23142adb70"
      },
      "execution_count": null,
      "outputs": [
        {
          "output_type": "execute_result",
          "data": {
            "text/plain": [
              "        IDTemposDescontos  IDAtracacao DescricaoTempoDesconto  \\\n",
              "350503            1248243      1520661       Aguardando carga   \n",
              "350504            1248244      1520661       Aguardando carga   \n",
              "350505            1248245      1520661       Aguardando carga   \n",
              "350506            1248246      1520661       Aguardando carga   \n",
              "350507            1248247      1520661       Aguardando carga   \n",
              "\n",
              "                   DTInicio            DTTermino  \n",
              "350503  11/11/2024 15:07:00  11/11/2024 15:12:00  \n",
              "350504  11/11/2024 15:10:00  11/11/2024 15:12:00  \n",
              "350505  11/11/2024 15:19:00  11/11/2024 15:23:00  \n",
              "350506  11/11/2024 15:20:00  11/11/2024 15:22:00  \n",
              "350507  11/11/2024 15:24:00  11/11/2024 15:28:00  "
            ],
            "text/html": [
              "\n",
              "  <div id=\"df-3049aa22-a090-44df-9479-4107b1a1cc99\" class=\"colab-df-container\">\n",
              "    <div>\n",
              "<style scoped>\n",
              "    .dataframe tbody tr th:only-of-type {\n",
              "        vertical-align: middle;\n",
              "    }\n",
              "\n",
              "    .dataframe tbody tr th {\n",
              "        vertical-align: top;\n",
              "    }\n",
              "\n",
              "    .dataframe thead th {\n",
              "        text-align: right;\n",
              "    }\n",
              "</style>\n",
              "<table border=\"1\" class=\"dataframe\">\n",
              "  <thead>\n",
              "    <tr style=\"text-align: right;\">\n",
              "      <th></th>\n",
              "      <th>IDTemposDescontos</th>\n",
              "      <th>IDAtracacao</th>\n",
              "      <th>DescricaoTempoDesconto</th>\n",
              "      <th>DTInicio</th>\n",
              "      <th>DTTermino</th>\n",
              "    </tr>\n",
              "  </thead>\n",
              "  <tbody>\n",
              "    <tr>\n",
              "      <th>350503</th>\n",
              "      <td>1248243</td>\n",
              "      <td>1520661</td>\n",
              "      <td>Aguardando carga</td>\n",
              "      <td>11/11/2024 15:07:00</td>\n",
              "      <td>11/11/2024 15:12:00</td>\n",
              "    </tr>\n",
              "    <tr>\n",
              "      <th>350504</th>\n",
              "      <td>1248244</td>\n",
              "      <td>1520661</td>\n",
              "      <td>Aguardando carga</td>\n",
              "      <td>11/11/2024 15:10:00</td>\n",
              "      <td>11/11/2024 15:12:00</td>\n",
              "    </tr>\n",
              "    <tr>\n",
              "      <th>350505</th>\n",
              "      <td>1248245</td>\n",
              "      <td>1520661</td>\n",
              "      <td>Aguardando carga</td>\n",
              "      <td>11/11/2024 15:19:00</td>\n",
              "      <td>11/11/2024 15:23:00</td>\n",
              "    </tr>\n",
              "    <tr>\n",
              "      <th>350506</th>\n",
              "      <td>1248246</td>\n",
              "      <td>1520661</td>\n",
              "      <td>Aguardando carga</td>\n",
              "      <td>11/11/2024 15:20:00</td>\n",
              "      <td>11/11/2024 15:22:00</td>\n",
              "    </tr>\n",
              "    <tr>\n",
              "      <th>350507</th>\n",
              "      <td>1248247</td>\n",
              "      <td>1520661</td>\n",
              "      <td>Aguardando carga</td>\n",
              "      <td>11/11/2024 15:24:00</td>\n",
              "      <td>11/11/2024 15:28:00</td>\n",
              "    </tr>\n",
              "  </tbody>\n",
              "</table>\n",
              "</div>\n",
              "    <div class=\"colab-df-buttons\">\n",
              "\n",
              "  <div class=\"colab-df-container\">\n",
              "    <button class=\"colab-df-convert\" onclick=\"convertToInteractive('df-3049aa22-a090-44df-9479-4107b1a1cc99')\"\n",
              "            title=\"Convert this dataframe to an interactive table.\"\n",
              "            style=\"display:none;\">\n",
              "\n",
              "  <svg xmlns=\"http://www.w3.org/2000/svg\" height=\"24px\" viewBox=\"0 -960 960 960\">\n",
              "    <path d=\"M120-120v-720h720v720H120Zm60-500h600v-160H180v160Zm220 220h160v-160H400v160Zm0 220h160v-160H400v160ZM180-400h160v-160H180v160Zm440 0h160v-160H620v160ZM180-180h160v-160H180v160Zm440 0h160v-160H620v160Z\"/>\n",
              "  </svg>\n",
              "    </button>\n",
              "\n",
              "  <style>\n",
              "    .colab-df-container {\n",
              "      display:flex;\n",
              "      gap: 12px;\n",
              "    }\n",
              "\n",
              "    .colab-df-convert {\n",
              "      background-color: #E8F0FE;\n",
              "      border: none;\n",
              "      border-radius: 50%;\n",
              "      cursor: pointer;\n",
              "      display: none;\n",
              "      fill: #1967D2;\n",
              "      height: 32px;\n",
              "      padding: 0 0 0 0;\n",
              "      width: 32px;\n",
              "    }\n",
              "\n",
              "    .colab-df-convert:hover {\n",
              "      background-color: #E2EBFA;\n",
              "      box-shadow: 0px 1px 2px rgba(60, 64, 67, 0.3), 0px 1px 3px 1px rgba(60, 64, 67, 0.15);\n",
              "      fill: #174EA6;\n",
              "    }\n",
              "\n",
              "    .colab-df-buttons div {\n",
              "      margin-bottom: 4px;\n",
              "    }\n",
              "\n",
              "    [theme=dark] .colab-df-convert {\n",
              "      background-color: #3B4455;\n",
              "      fill: #D2E3FC;\n",
              "    }\n",
              "\n",
              "    [theme=dark] .colab-df-convert:hover {\n",
              "      background-color: #434B5C;\n",
              "      box-shadow: 0px 1px 3px 1px rgba(0, 0, 0, 0.15);\n",
              "      filter: drop-shadow(0px 1px 2px rgba(0, 0, 0, 0.3));\n",
              "      fill: #FFFFFF;\n",
              "    }\n",
              "  </style>\n",
              "\n",
              "    <script>\n",
              "      const buttonEl =\n",
              "        document.querySelector('#df-3049aa22-a090-44df-9479-4107b1a1cc99 button.colab-df-convert');\n",
              "      buttonEl.style.display =\n",
              "        google.colab.kernel.accessAllowed ? 'block' : 'none';\n",
              "\n",
              "      async function convertToInteractive(key) {\n",
              "        const element = document.querySelector('#df-3049aa22-a090-44df-9479-4107b1a1cc99');\n",
              "        const dataTable =\n",
              "          await google.colab.kernel.invokeFunction('convertToInteractive',\n",
              "                                                    [key], {});\n",
              "        if (!dataTable) return;\n",
              "\n",
              "        const docLinkHtml = 'Like what you see? Visit the ' +\n",
              "          '<a target=\"_blank\" href=https://colab.research.google.com/notebooks/data_table.ipynb>data table notebook</a>'\n",
              "          + ' to learn more about interactive tables.';\n",
              "        element.innerHTML = '';\n",
              "        dataTable['output_type'] = 'display_data';\n",
              "        await google.colab.output.renderOutput(dataTable, element);\n",
              "        const docLink = document.createElement('div');\n",
              "        docLink.innerHTML = docLinkHtml;\n",
              "        element.appendChild(docLink);\n",
              "      }\n",
              "    </script>\n",
              "  </div>\n",
              "\n",
              "\n",
              "    <div id=\"df-f7277d5c-4b61-4e2a-870d-a2e7ad12ceb4\">\n",
              "      <button class=\"colab-df-quickchart\" onclick=\"quickchart('df-f7277d5c-4b61-4e2a-870d-a2e7ad12ceb4')\"\n",
              "                title=\"Suggest charts\"\n",
              "                style=\"display:none;\">\n",
              "\n",
              "<svg xmlns=\"http://www.w3.org/2000/svg\" height=\"24px\"viewBox=\"0 0 24 24\"\n",
              "     width=\"24px\">\n",
              "    <g>\n",
              "        <path d=\"M19 3H5c-1.1 0-2 .9-2 2v14c0 1.1.9 2 2 2h14c1.1 0 2-.9 2-2V5c0-1.1-.9-2-2-2zM9 17H7v-7h2v7zm4 0h-2V7h2v10zm4 0h-2v-4h2v4z\"/>\n",
              "    </g>\n",
              "</svg>\n",
              "      </button>\n",
              "\n",
              "<style>\n",
              "  .colab-df-quickchart {\n",
              "      --bg-color: #E8F0FE;\n",
              "      --fill-color: #1967D2;\n",
              "      --hover-bg-color: #E2EBFA;\n",
              "      --hover-fill-color: #174EA6;\n",
              "      --disabled-fill-color: #AAA;\n",
              "      --disabled-bg-color: #DDD;\n",
              "  }\n",
              "\n",
              "  [theme=dark] .colab-df-quickchart {\n",
              "      --bg-color: #3B4455;\n",
              "      --fill-color: #D2E3FC;\n",
              "      --hover-bg-color: #434B5C;\n",
              "      --hover-fill-color: #FFFFFF;\n",
              "      --disabled-bg-color: #3B4455;\n",
              "      --disabled-fill-color: #666;\n",
              "  }\n",
              "\n",
              "  .colab-df-quickchart {\n",
              "    background-color: var(--bg-color);\n",
              "    border: none;\n",
              "    border-radius: 50%;\n",
              "    cursor: pointer;\n",
              "    display: none;\n",
              "    fill: var(--fill-color);\n",
              "    height: 32px;\n",
              "    padding: 0;\n",
              "    width: 32px;\n",
              "  }\n",
              "\n",
              "  .colab-df-quickchart:hover {\n",
              "    background-color: var(--hover-bg-color);\n",
              "    box-shadow: 0 1px 2px rgba(60, 64, 67, 0.3), 0 1px 3px 1px rgba(60, 64, 67, 0.15);\n",
              "    fill: var(--button-hover-fill-color);\n",
              "  }\n",
              "\n",
              "  .colab-df-quickchart-complete:disabled,\n",
              "  .colab-df-quickchart-complete:disabled:hover {\n",
              "    background-color: var(--disabled-bg-color);\n",
              "    fill: var(--disabled-fill-color);\n",
              "    box-shadow: none;\n",
              "  }\n",
              "\n",
              "  .colab-df-spinner {\n",
              "    border: 2px solid var(--fill-color);\n",
              "    border-color: transparent;\n",
              "    border-bottom-color: var(--fill-color);\n",
              "    animation:\n",
              "      spin 1s steps(1) infinite;\n",
              "  }\n",
              "\n",
              "  @keyframes spin {\n",
              "    0% {\n",
              "      border-color: transparent;\n",
              "      border-bottom-color: var(--fill-color);\n",
              "      border-left-color: var(--fill-color);\n",
              "    }\n",
              "    20% {\n",
              "      border-color: transparent;\n",
              "      border-left-color: var(--fill-color);\n",
              "      border-top-color: var(--fill-color);\n",
              "    }\n",
              "    30% {\n",
              "      border-color: transparent;\n",
              "      border-left-color: var(--fill-color);\n",
              "      border-top-color: var(--fill-color);\n",
              "      border-right-color: var(--fill-color);\n",
              "    }\n",
              "    40% {\n",
              "      border-color: transparent;\n",
              "      border-right-color: var(--fill-color);\n",
              "      border-top-color: var(--fill-color);\n",
              "    }\n",
              "    60% {\n",
              "      border-color: transparent;\n",
              "      border-right-color: var(--fill-color);\n",
              "    }\n",
              "    80% {\n",
              "      border-color: transparent;\n",
              "      border-right-color: var(--fill-color);\n",
              "      border-bottom-color: var(--fill-color);\n",
              "    }\n",
              "    90% {\n",
              "      border-color: transparent;\n",
              "      border-bottom-color: var(--fill-color);\n",
              "    }\n",
              "  }\n",
              "</style>\n",
              "\n",
              "      <script>\n",
              "        async function quickchart(key) {\n",
              "          const quickchartButtonEl =\n",
              "            document.querySelector('#' + key + ' button');\n",
              "          quickchartButtonEl.disabled = true;  // To prevent multiple clicks.\n",
              "          quickchartButtonEl.classList.add('colab-df-spinner');\n",
              "          try {\n",
              "            const charts = await google.colab.kernel.invokeFunction(\n",
              "                'suggestCharts', [key], {});\n",
              "          } catch (error) {\n",
              "            console.error('Error during call to suggestCharts:', error);\n",
              "          }\n",
              "          quickchartButtonEl.classList.remove('colab-df-spinner');\n",
              "          quickchartButtonEl.classList.add('colab-df-quickchart-complete');\n",
              "        }\n",
              "        (() => {\n",
              "          let quickchartButtonEl =\n",
              "            document.querySelector('#df-f7277d5c-4b61-4e2a-870d-a2e7ad12ceb4 button');\n",
              "          quickchartButtonEl.style.display =\n",
              "            google.colab.kernel.accessAllowed ? 'block' : 'none';\n",
              "        })();\n",
              "      </script>\n",
              "    </div>\n",
              "\n",
              "    </div>\n",
              "  </div>\n"
            ],
            "application/vnd.google.colaboratory.intrinsic+json": {
              "type": "dataframe",
              "repr_error": "0"
            }
          },
          "metadata": {},
          "execution_count": 13
        }
      ]
    },
    {
      "cell_type": "code",
      "source": [
        "print(ANTAQ_Int.columns.tolist())"
      ],
      "metadata": {
        "colab": {
          "base_uri": "https://localhost:8080/"
        },
        "id": "fLc0Gk_J7_Fl",
        "outputId": "c94dd65a-d0fd-40e9-b7fe-18ad336ada17"
      },
      "execution_count": null,
      "outputs": [
        {
          "output_type": "stream",
          "name": "stdout",
          "text": [
            "['IDTemposDescontos', 'IDAtracacao', 'DescricaoTempoDesconto', 'DTInicio', 'DTTermino']\n"
          ]
        }
      ]
    },
    {
      "cell_type": "code",
      "source": [
        "ANTAQ_Int['DTInicio'] = pd.to_datetime(ANTAQ_Int['DTInicio'], dayfirst=True, errors='coerce')\n",
        "ANTAQ_Int['DTTermino'] = pd.to_datetime(ANTAQ_Int['DTTermino'], dayfirst=True, errors='coerce')"
      ],
      "metadata": {
        "id": "M70lQASoAGd_"
      },
      "execution_count": null,
      "outputs": []
    },
    {
      "cell_type": "code",
      "source": [
        "ANTAQ_Int['HoraInicio'] = ANTAQ_Int['DTInicio'].dt.strftime('%H:%M:%S')\n",
        "ANTAQ_Int['HoraTermino'] = ANTAQ_Int['DTTermino'].dt.strftime('%H:%M:%S')"
      ],
      "metadata": {
        "id": "qwnJWunTAUBg"
      },
      "execution_count": null,
      "outputs": []
    },
    {
      "cell_type": "code",
      "source": [
        "print(ANTAQ_Int[['DTInicio', 'HoraInicio', 'DTTermino', 'HoraTermino']].head())"
      ],
      "metadata": {
        "colab": {
          "base_uri": "https://localhost:8080/"
        },
        "id": "01fUWle08mId",
        "outputId": "2fcb648a-ca14-4187-e9ea-6dabf4cd32af"
      },
      "execution_count": null,
      "outputs": [
        {
          "output_type": "stream",
          "name": "stdout",
          "text": [
            "             DTInicio HoraInicio           DTTermino HoraTermino\n",
            "0 2023-05-26 00:12:00   00:12:00 2023-05-26 00:54:00    00:54:00\n",
            "1 2023-05-08 14:00:00   14:00:00 2023-05-08 14:30:00    14:30:00\n",
            "2 2023-05-13 20:40:00   20:40:00 2023-05-13 22:10:00    22:10:00\n",
            "3 2023-05-13 23:05:00   23:05:00 2023-05-13 23:45:00    23:45:00\n",
            "4 2023-05-14 00:00:00   00:00:00 2023-05-14 00:50:00    00:50:00\n"
          ]
        }
      ]
    },
    {
      "cell_type": "code",
      "source": [
        "\n",
        "colunas_para_salvar = [\n",
        "    'IDTemposDescontos',\n",
        "    'IDAtracacao',\n",
        "    'DescricaoTempoDesconto',\n",
        "    'DataInicio',\n",
        "    'HoraInicio',\n",
        "    'DataTermino',\n",
        "    'HoraTermino'\n",
        "]"
      ],
      "metadata": {
        "id": "KZqWDK4O8vYV"
      },
      "execution_count": null,
      "outputs": []
    },
    {
      "cell_type": "code",
      "source": [
        "ANTAQ_Int = ANTAQ_Int.rename(columns={'DTInicio': 'DataInicio', 'DTTermino': 'DataTermino'})"
      ],
      "metadata": {
        "id": "5aOwi0KX9Puz"
      },
      "execution_count": null,
      "outputs": []
    },
    {
      "cell_type": "code",
      "source": [
        "colunas_para_salvar = [\n",
        "    'IDTemposDescontos',\n",
        "    'IDAtracacao',\n",
        "    'DescricaoTempoDesconto',\n",
        "    'DataInicio',\n",
        "    'HoraInicio',\n",
        "    'DataTermino',\n",
        "    'HoraTermino'\n",
        "]"
      ],
      "metadata": {
        "id": "b8zx8meG_mnz"
      },
      "execution_count": null,
      "outputs": []
    },
    {
      "cell_type": "code",
      "source": [
        "\n",
        "ANTAQ_Int[colunas_para_salvar].to_csv(\n",
        "    caminho_out + 'TemposAtracacao_Tratado.csv',\n",
        "    index=False,\n",
        "    sep=';',\n",
        "    encoding='utf-8'\n",
        ")"
      ],
      "metadata": {
        "id": "c44nqBAPBB_m"
      },
      "execution_count": null,
      "outputs": []
    },
    {
      "cell_type": "code",
      "source": [
        "print(\"✅ Arquivo salvo com sucesso em:\", caminho_out + 'TemposAtracacao_Tratado.csv')"
      ],
      "metadata": {
        "colab": {
          "base_uri": "https://localhost:8080/"
        },
        "id": "DvdU0Fu9BF22",
        "outputId": "1ec5e449-ef2f-4f3b-e214-998f76a92423"
      },
      "execution_count": null,
      "outputs": [
        {
          "output_type": "stream",
          "name": "stdout",
          "text": [
            "✅ Arquivo salvo com sucesso em: /content/drive/My Drive/Data3/TemposAtracacao_Tratado.csv\n"
          ]
        }
      ]
    }
  ]
}